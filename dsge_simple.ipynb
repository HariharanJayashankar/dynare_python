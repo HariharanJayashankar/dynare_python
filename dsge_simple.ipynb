{
 "cells": [
  {
   "cell_type": "markdown",
   "metadata": {},
   "source": [
    "# Using Dynare++ With Python\n",
    "\n",
    "Using dynare with python turns out to be fairly simple. But I didn't know that this was possible at all before.\n",
    "\n",
    "1. Install dynare from http://www.dynare.org/download. Make sure to check the box for dynare++\n",
    "2. (optional) Put dynare++ in the system path (meaning you put the path to your dynare++ which should be something like C:\\dynare\\4.5.6\\dynare++ into your system path). A lot of Google tutorials on how to do this\n",
    "3. Make sure ot have python installed along with scipy\n",
    "4. Make a .mod file to make a model in dynare. Go to the path of your .mod file through command prompt. Type in \"dynare++ \\<yourfile\\>.mod\"\n",
    "5. Using scipy in python, you can import the resultant .mat file created by dynare (it'll be in the same location as the .mod file). The code is scipy.io.loadmat(\"yourfile.mat\"). \n",
    "6. You will have to assign that to an object. The resultant object is a dictionary of all the objects dynare created. From here, you can use any dynare tutorial to explore your model\n",
    "7. Don't forget that dynare indices start from 1, whereas python's starts from 0.\n",
    "    \n",
    "\n",
    "Here is an example of me plotting an irf of capital. "
   ]
  },
  {
   "cell_type": "code",
   "execution_count": 18,
   "metadata": {},
   "outputs": [],
   "source": [
    "import scipy.io as spio\n",
    "import matplotlib.pyplot as plt"
   ]
  },
  {
   "cell_type": "code",
   "execution_count": 2,
   "metadata": {},
   "outputs": [],
   "source": [
    "mat = spio.loadmat(\"dsge_example.mat\")"
   ]
  },
  {
   "cell_type": "code",
   "execution_count": 24,
   "metadata": {},
   "outputs": [
    {
     "data": {
      "text/plain": [
       "[<matplotlib.lines.Line2D at 0xaa68ed3e80>]"
      ]
     },
     "execution_count": 24,
     "metadata": {},
     "output_type": "execute_result"
    },
    {
     "data": {
      "image/png": "[encoded data removed]",
      "text/plain": [
       "<Figure size 432x288 with 1 Axes>"
      ]
     },
     "metadata": {
      "needs_background": "light"
     },
     "output_type": "display_data"
    }
   ],
   "source": [
    "plt.plot(mat['dyn_irfp_EPS_mean'][int(mat['dyn_i_K']) - 1])"
   ]
  }
 ],
 "metadata": {
  "kernelspec": {
   "display_name": "Python 3",
   "language": "python",
   "name": "python3"
  },
  "language_info": {
   "codemirror_mode": {
    "name": "ipython",
    "version": 3
   },
   "file_extension": ".py",
   "mimetype": "text/x-python",
   "name": "python",
   "nbconvert_exporter": "python",
   "pygments_lexer": "ipython3",
   "version": "3.6.6"
  }
 },
 "nbformat": 4,
 "nbformat_minor": 2
}
